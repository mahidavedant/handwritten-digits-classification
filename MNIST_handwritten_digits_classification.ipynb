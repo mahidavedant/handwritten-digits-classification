{
  "nbformat": 4,
  "nbformat_minor": 0,
  "metadata": {
    "colab": {
      "provenance": []
    },
    "kernelspec": {
      "name": "python3",
      "display_name": "Python 3"
    },
    "language_info": {
      "name": "python"
    },
    "accelerator": "GPU",
    "gpuClass": "standard"
  },
  "cells": [
    {
      "cell_type": "markdown",
      "source": [
        "# MNIST Handwritten Digits Classification Using CNN"
      ],
      "metadata": {
        "id": "3uP4HguG-asb"
      }
    },
    {
      "cell_type": "code",
      "execution_count": 21,
      "metadata": {
        "colab": {
          "base_uri": "https://localhost:8080/"
        },
        "id": "fonbjXhyv1UD",
        "outputId": "d3e459b3-98de-43d8-8a49-ac200f930400"
      },
      "outputs": [
        {
          "output_type": "stream",
          "name": "stdout",
          "text": [
            "NP version: 1.21.6\n",
            "PD version: 1.3.5\n",
            "TF version: 2.11.0\n",
            "Keras version: 2.11.0\n"
          ]
        }
      ],
      "source": [
        "import numpy as np\n",
        "import pandas as pd\n",
        "import matplotlib.pyplot as plt\n",
        "import tensorflow as tf\n",
        "from tensorflow import keras\n",
        "from keras.utils.np_utils import to_categorical\n",
        "from keras.layers import Conv2D,MaxPooling2D,Flatten,Dense\n",
        "\n",
        "%matplotlib inline\n",
        "\n",
        "print(f\"NP version: {np.__version__}\")\n",
        "print(f\"PD version: {pd.__version__}\")\n",
        "print(f\"TF version: {tf.__version__}\")\n",
        "print(f\"Keras version: {keras.__version__}\")"
      ]
    },
    {
      "cell_type": "markdown",
      "source": [
        "## Load Data"
      ],
      "metadata": {
        "id": "jtub0EkswXfA"
      }
    },
    {
      "cell_type": "code",
      "source": [
        "# MNIST handwritten digits dataset\n",
        "(X_train, y_train), (X_test, y_test) = keras.datasets.mnist.load_data()"
      ],
      "metadata": {
        "id": "iNmLzJ5Swl53"
      },
      "execution_count": 22,
      "outputs": []
    },
    {
      "cell_type": "code",
      "source": [
        "X_train.shape, X_test.shape"
      ],
      "metadata": {
        "colab": {
          "base_uri": "https://localhost:8080/"
        },
        "id": "Bgg4G89mwvvJ",
        "outputId": "af92045e-5a38-4156-e148-32db81555544"
      },
      "execution_count": 23,
      "outputs": [
        {
          "output_type": "execute_result",
          "data": {
            "text/plain": [
              "((60000, 28, 28), (10000, 28, 28))"
            ]
          },
          "metadata": {},
          "execution_count": 23
        }
      ]
    },
    {
      "cell_type": "code",
      "source": [
        "# Visualize single sample\n",
        "def plot_sample(X, y, index):\n",
        "  \"\"\"\n",
        "  Plots an image for given index.\n",
        "  \"\"\"\n",
        "  plt.figure(figsize=(10, 5))\n",
        "  plt.imshow(X[index], cmap='gray')\n",
        "  plt.title(f\"Label: {y[index]}\")\n",
        "  plt.axis('off')"
      ],
      "metadata": {
        "id": "XKyEQhIrw97_"
      },
      "execution_count": 24,
      "outputs": []
    },
    {
      "cell_type": "code",
      "source": [
        "plot_sample(X_train, y_train, 42)"
      ],
      "metadata": {
        "colab": {
          "base_uri": "https://localhost:8080/",
          "height": 319
        },
        "id": "RU_-nYxHxUkq",
        "outputId": "fe9d5945-5dfe-4e87-cf3d-e5e79e1abe3e"
      },
      "execution_count": 25,
      "outputs": [
        {
          "output_type": "display_data",
          "data": {
            "text/plain": [
              "<Figure size 720x360 with 1 Axes>"
            ],
            "image/png": "[encoded data removed]"
          },
          "metadata": {
            "needs_background": "light"
          }
        }
      ]
    },
    {
      "cell_type": "code",
      "source": [
        "# Plot multiple samples\n",
        "def plot_16_images(X, y):\n",
        "  \"\"\"\n",
        "  Plots 16 sample images.\n",
        "  \"\"\"\n",
        "  plt.figure(figsize=(10, 10))\n",
        "\n",
        "  for i in range(16):\n",
        "    # subplots\n",
        "    ax = plt.subplot(4, 4, i+1)\n",
        "    plt.imshow(X[i], cmap='gray')\n",
        "    plt.title(f\"Label: {y[i]}\")\n",
        "    plt.axis('off')"
      ],
      "metadata": {
        "id": "t38Gu0ARxYAO"
      },
      "execution_count": 26,
      "outputs": []
    },
    {
      "cell_type": "code",
      "source": [
        "plot_16_images(X_train, y_train)"
      ],
      "metadata": {
        "colab": {
          "base_uri": "https://localhost:8080/",
          "height": 591
        },
        "id": "hiFgsNPWzgUk",
        "outputId": "0fb66d85-ed49-43c9-eb5e-e26512f0fcc4"
      },
      "execution_count": 27,
      "outputs": [
        {
          "output_type": "display_data",
          "data": {
            "text/plain": [
              "<Figure size 720x720 with 16 Axes>"
            ],
            "image/png": "[encoded data removed]"
          },
          "metadata": {
            "needs_background": "light"
          }
        }
      ]
    },
    {
      "cell_type": "code",
      "source": [
        "X_train = np.reshape(X_train,(-1,28,28,1))\n",
        "X_test = np.reshape(X_test,(-1,28,28,1))\n",
        "\n",
        "X_train.shape, X_test.shape, y_train.shape, y_test.shape"
      ],
      "metadata": {
        "colab": {
          "base_uri": "https://localhost:8080/"
        },
        "id": "-EPjaeIc5Kxv",
        "outputId": "0df91fb1-0353-44fa-9708-775dfcb07894"
      },
      "execution_count": 28,
      "outputs": [
        {
          "output_type": "execute_result",
          "data": {
            "text/plain": [
              "((60000, 28, 28, 1), (10000, 28, 28, 1), (60000,), (10000,))"
            ]
          },
          "metadata": {},
          "execution_count": 28
        }
      ]
    },
    {
      "cell_type": "code",
      "source": [
        "# Feature Scaling\n",
        "X_train = X_train/255\n",
        "X_test = X_test/255"
      ],
      "metadata": {
        "id": "zpY9DCK60C2a"
      },
      "execution_count": 29,
      "outputs": []
    },
    {
      "cell_type": "code",
      "source": [
        "# One hot encoding\n",
        "y_train = to_categorical(y_train, num_classes=10)\n",
        "y_test = to_categorical(y_test, num_classes=10)"
      ],
      "metadata": {
        "id": "J6hjM62U8chw"
      },
      "execution_count": 30,
      "outputs": []
    },
    {
      "cell_type": "markdown",
      "source": [
        "## Model Building"
      ],
      "metadata": {
        "id": "sIsLaSXi0Rjl"
      }
    },
    {
      "cell_type": "code",
      "source": [
        "# Build model\n",
        "model = keras.Sequential()\n",
        "\n",
        "### FEATURE LEARNING\n",
        "# Convolution layer #1\n",
        "model.add(Conv2D(\n",
        "    filters=32, \n",
        "    kernel_size=5,\n",
        "    strides=1,\n",
        "    padding=\"Same\",\n",
        "    activation=\"relu\",\n",
        "    input_shape=(28,28,1))\n",
        ")\n",
        "model.add(MaxPooling2D(padding=\"same\"))\n",
        "\n",
        "# Convolution layer #2\n",
        "model.add(Conv2D(\n",
        "    filters=64, \n",
        "    kernel_size=5,\n",
        "    strides=1,\n",
        "    padding=\"same\",\n",
        "    activation=\"relu\"))\n",
        "model.add(MaxPooling2D(padding=\"same\"))\n",
        "\n",
        "### CLASSIFICATION\n",
        "# Flatten layer\n",
        "model.add(Flatten())\n",
        "# Fully connected layer\n",
        "model.add(Dense(1024,activation=\"relu\"))\n",
        "# Output layer\n",
        "model.add(Dense(10, activation=\"sigmoid\"))"
      ],
      "metadata": {
        "id": "oYvXY6Rn0bqy"
      },
      "execution_count": 31,
      "outputs": []
    },
    {
      "cell_type": "code",
      "source": [
        "model.summary()"
      ],
      "metadata": {
        "colab": {
          "base_uri": "https://localhost:8080/"
        },
        "id": "VEdCZbD13gS7",
        "outputId": "33bc5aaf-6b33-4326-e664-2fcb5a29811f"
      },
      "execution_count": 32,
      "outputs": [
        {
          "output_type": "stream",
          "name": "stdout",
          "text": [
            "Model: \"sequential_1\"\n",
            "_________________________________________________________________\n",
            " Layer (type)                Output Shape              Param #   \n",
            "=================================================================\n",
            " conv2d_2 (Conv2D)           (None, 28, 28, 32)        832       \n",
            "                                                                 \n",
            " max_pooling2d_2 (MaxPooling  (None, 14, 14, 32)       0         \n",
            " 2D)                                                             \n",
            "                                                                 \n",
            " conv2d_3 (Conv2D)           (None, 14, 14, 64)        51264     \n",
            "                                                                 \n",
            " max_pooling2d_3 (MaxPooling  (None, 7, 7, 64)         0         \n",
            " 2D)                                                             \n",
            "                                                                 \n",
            " flatten_1 (Flatten)         (None, 3136)              0         \n",
            "                                                                 \n",
            " dense_2 (Dense)             (None, 1024)              3212288   \n",
            "                                                                 \n",
            " dense_3 (Dense)             (None, 10)                10250     \n",
            "                                                                 \n",
            "=================================================================\n",
            "Total params: 3,274,634\n",
            "Trainable params: 3,274,634\n",
            "Non-trainable params: 0\n",
            "_________________________________________________________________\n"
          ]
        }
      ]
    },
    {
      "cell_type": "code",
      "source": [
        "# Compile model\n",
        "model.compile(optimizer='adam',\n",
        "              loss=\"categorical_crossentropy\",\n",
        "              metrics=[\"accuracy\"])"
      ],
      "metadata": {
        "id": "E-n9WgAi7LSP"
      },
      "execution_count": 33,
      "outputs": []
    },
    {
      "cell_type": "code",
      "source": [
        "# Fit model\n",
        "history = model.fit(X_train, \n",
        "                    y_train,\n",
        "                    batch_size=64,\n",
        "                    epochs=5,\n",
        "                    validation_data=(X_test,y_test))"
      ],
      "metadata": {
        "colab": {
          "base_uri": "https://localhost:8080/"
        },
        "id": "rTyKiBEw7uul",
        "outputId": "0c7ff0f7-fdc1-47f6-faa0-2b76e92ec62f"
      },
      "execution_count": 34,
      "outputs": [
        {
          "output_type": "stream",
          "name": "stdout",
          "text": [
            "Epoch 1/5\n",
            "938/938 [==============================] - 8s 7ms/step - loss: 0.1098 - accuracy: 0.9661 - val_loss: 0.0318 - val_accuracy: 0.9889\n",
            "Epoch 2/5\n",
            "938/938 [==============================] - 6s 6ms/step - loss: 0.0363 - accuracy: 0.9885 - val_loss: 0.0349 - val_accuracy: 0.9892\n",
            "Epoch 3/5\n",
            "938/938 [==============================] - 7s 8ms/step - loss: 0.0246 - accuracy: 0.9917 - val_loss: 0.0272 - val_accuracy: 0.9908\n",
            "Epoch 4/5\n",
            "938/938 [==============================] - 5s 5ms/step - loss: 0.0167 - accuracy: 0.9947 - val_loss: 0.0257 - val_accuracy: 0.9913\n",
            "Epoch 5/5\n",
            "938/938 [==============================] - 6s 6ms/step - loss: 0.0136 - accuracy: 0.9954 - val_loss: 0.0256 - val_accuracy: 0.9921\n"
          ]
        }
      ]
    },
    {
      "cell_type": "code",
      "source": [
        "# Evaluate model\n",
        "model.evaluate(X_train, y_train), model.evaluate(X_test, y_test)"
      ],
      "metadata": {
        "colab": {
          "base_uri": "https://localhost:8080/"
        },
        "id": "gLoWVt5D8GYi",
        "outputId": "f1ef3f43-c8c3-47f3-c77a-eec5ce95c235"
      },
      "execution_count": 35,
      "outputs": [
        {
          "output_type": "stream",
          "name": "stdout",
          "text": [
            "1875/1875 [==============================] - 6s 3ms/step - loss: 0.0083 - accuracy: 0.9973\n",
            "313/313 [==============================] - 1s 3ms/step - loss: 0.0256 - accuracy: 0.9921\n"
          ]
        },
        {
          "output_type": "execute_result",
          "data": {
            "text/plain": [
              "([0.00827070139348507, 0.9973333477973938],\n",
              " [0.025633690878748894, 0.9921000003814697])"
            ]
          },
          "metadata": {},
          "execution_count": 35
        }
      ]
    }
  ]
}